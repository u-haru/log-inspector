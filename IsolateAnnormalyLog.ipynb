{
  "nbformat": 4,
  "nbformat_minor": 0,
  "metadata": {
    "colab": {
      "provenance": [],
      "mount_file_id": "1cfTLxsQ0xISjcmEi6M2SwOdTj1BSeN80",
      "authorship_tag": "ABX9TyO5Gd1YNf3F4YGQRj47gnkh",
      "include_colab_link": true
    },
    "kernelspec": {
      "name": "python3",
      "display_name": "Python 3"
    },
    "language_info": {
      "name": "python"
    }
  },
  "cells": [
    {
      "cell_type": "markdown",
      "metadata": {
        "id": "view-in-github",
        "colab_type": "text"
      },
      "source": [
        "<a href=\"https://colab.research.google.com/github/u-haru/log-inspector/blob/master/IsolateAnnormalyLog.ipynb\" target=\"_parent\"><img src=\"https://colab.research.google.com/assets/colab-badge.svg\" alt=\"Open In Colab\"/></a>"
      ]
    },
    {
      "cell_type": "code",
      "source": [
        "#@title Parse access.log to log.csv \n",
        "import pandas as pd\n",
        "import re\n",
        "from urllib.parse import unquote\n",
        "\n",
        "lineformat = re.compile(r'(?P<ipaddress>[\\w\\.:]*) [^\\[]* \\[(?P<date>.*)\\] \"(?P<method>[A-Z]*) (?P<url>.*) HTTP\\/[\\d\\.]+\" (?P<statuscode>\\d{3}) (?P<bytessent>\\d+) \"(?P<refferer>.*)\" \"(?P<useragent>.*)\"', re.IGNORECASE)\n",
        "def parse(l):\n",
        "  data = re.search(lineformat, l)\n",
        "  if data:\n",
        "    datadict = data.groupdict()\n",
        "    # ip = datadict[\"ipaddress\"]\n",
        "    # date = datadict[\"date\"]\n",
        "\n",
        "    # bytessent = datadict[\"bytessent\"]\n",
        "    referrer = datadict[\"refferer\"] if len(datadict[\"refferer\"]) else \"-\"\n",
        "    useragent = datadict[\"useragent\"] if len(datadict[\"useragent\"]) else \"-\"\n",
        "    scode = int(datadict[\"statuscode\"])\n",
        "    # method = datadict[\"method\"]\n",
        "\n",
        "    path = datadict[\"url\"] if len(re.findall(r\"\\%[0-1]\", datadict[\"url\"])) else unquote(datadict[\"url\"])\n",
        "    \n",
        "    if scode>=410 or len(path)==0: # Internal error | Parse error\n",
        "      return None\n",
        "\n",
        "    dotdot = path.count(\"..\")\n",
        "    dot = path.count(\".\")\n",
        "    slash = path.count(\"/\")\n",
        "    question = path.count(\"?\")\n",
        "    exclamation = path.count(\"!\")\n",
        "    amp = path.count(\"&\")\n",
        "    equal = path.count(\"=\")\n",
        "    # pcnt = path.count(\"%\")\n",
        "    invalid_escape = len(re.findall(r\"\\%[0-7]\", datadict[\"url\"]))\n",
        "    slash_x = path.count(\"\\\\x\")\n",
        "    semicolon = path.count(\";\")\n",
        "    space = path.count(\" \")\n",
        "    colon = path.count(\":\")\n",
        "    less = path.count(\"<\")\n",
        "    great = path.count(\">\")\n",
        "    pipe = path.count(\"|\")\n",
        "    plus = path.count(\"+\")\n",
        "    open_p = path.count(\"(\")\n",
        "    open_b = path.count(\"[\")\n",
        "    success = 1 if scode<400 else 0\n",
        "    has_ref = 1 if referrer != \"-\" else 0\n",
        "    path_len = len(path)\n",
        "\n",
        "    return [path,referrer,useragent,dotdot,dot,slash,question,exclamation,amp,equal,invalid_escape,slash_x,semicolon,space,colon,less,great,pipe,plus,open_p,open_b,scode,success,has_ref,path_len]\n",
        "  return None\n",
        "\n",
        "logfile = open(\"/content/drive/MyDrive/LogInspector/access.log\")\n",
        "\n",
        "arr = []\n",
        "for l in logfile.readlines():\n",
        "  d = parse(l)\n",
        "  if d != None:\n",
        "    arr.append(d)\n",
        "\n",
        "print(\"datalen:\",len(arr))\n",
        "df = pd.DataFrame(data=arr, index=None, columns=[\"path\",\"referrer\",\"useragent\",\"dotdot\",\"dot\",\"slash\",\"question\",\"exclamation\",\"amp\",\"equal\",\"invalid_escape\",\"slash_x\",\"semicolon\",\"space\",\"colon\",\"less\",\"great\",\"pipe\",\"plus\",\"open_p\",\"open_b\",\"scode\",\"success\",\"has_ref\",\"path_len\"])\n",
        "df.to_csv('/content/drive/MyDrive/LogInspector/log.csv',index=False)"
      ],
      "metadata": {
        "colab": {
          "base_uri": "https://localhost:8080/"
        },
        "id": "AxukX7UdwwFn",
        "outputId": "ce616fc5-fbf4-4c31-9c85-947e7cc2d58d"
      },
      "execution_count": null,
      "outputs": [
        {
          "output_type": "stream",
          "name": "stdout",
          "text": [
            "datalen: 1224781\n"
          ]
        }
      ]
    },
    {
      "cell_type": "code",
      "execution_count": null,
      "metadata": {
        "id": "NVp5T3Xrh0jP"
      },
      "outputs": [],
      "source": [
        "#@title Train with log.csv\n",
        "import pandas as pd\n",
        "import pickle\n",
        "from sklearn.ensemble import IsolationForest\n",
        "\n",
        "df = pd.read_csv('/content/drive/MyDrive/LogInspector/log.csv')\n",
        "\n",
        "train=False#@param {type:\"boolean\"}\n",
        "localmodel=True#@param {type:\"boolean\"}\n",
        "MODELPATH=\"/content/drive/MyDrive/LogInspector/IFModel.pkl\"#@param {type:\"string\"}\n",
        "\n",
        "model=None\n",
        "if localmodel:\n",
        "  model = pickle.load(open(MODELPATH, 'rb'))\n",
        "else:\n",
        "  model = IsolationForest(\n",
        "      n_estimators=1000,\n",
        "      max_samples='auto',\n",
        "      contamination=0.003,\n",
        "    )\n",
        "\n",
        "if train:\n",
        "  model.fit(df.drop(columns=[\"path\",\"referrer\",\"useragent\"]))\n",
        "\n",
        "df[\"predict\"] = model.predict(df.drop(columns=[\"path\",\"referrer\",\"useragent\"]))\n",
        "\n",
        "df.loc[(df['scode'] < 400) & (df['predict']==-1), 'predict'] = 1\n",
        "\n",
        "df = pd.DataFrame(data=df,index=None, columns=[\"path\",\"referrer\",\"useragent\",\"dotdot\",\"dot\",\"slash\",\"question\",\"exclamation\",\"amp\",\"equal\",\"invalid_escape\",\"slash_x\",\"semicolon\",\"space\",\"colon\",\"less\",\"great\",\"pipe\",\"plus\",\"open_p\",\"open_b\",\"scode\",\"success\",\"has_ref\",\"path_len\",\"predict\"])\n",
        "df.to_csv('/content/drive/MyDrive/LogInspector/log_predicted.csv')"
      ]
    },
    {
      "cell_type": "code",
      "source": [
        "#@title Save model\n",
        "import pickle\n",
        "pickle.dump(model, open(MODELPATH, 'wb'))"
      ],
      "metadata": {
        "id": "ZmChoYFR82YL"
      },
      "execution_count": null,
      "outputs": []
    },
    {
      "cell_type": "code",
      "source": [
        "#@title Print log_predicted.csv\n",
        "import pandas as pd\n",
        "\n",
        "df = pd.read_csv('/content/drive/MyDrive/LogInspector/log_predicted.csv')\n",
        "\n",
        "# print(df[df[\"predict\"]==-1])\n",
        "for index, row in df[df[\"predict\"]==-1].iterrows():\n",
        "  print(row[\"path\"],row[\"referrer\"],row[\"useragent\"],row[\"scode\"])\n"
      ],
      "metadata": {
        "id": "4_0p9p9GBLn2"
      },
      "execution_count": null,
      "outputs": []
    },
    {
      "cell_type": "code",
      "source": [
        "#@title Check log_predicted.csv\n",
        "import pandas as pd\n",
        "\n",
        "df.loc[df[\"predict\"] < 0, \"predict\"] = 0\n",
        "df = df[[\"path\",\"referrer\",\"useragent\",\"predict\"]]\n",
        "df = df.drop_duplicates()\n",
        "print(df)\n",
        "\n"
      ],
      "metadata": {
        "colab": {
          "base_uri": "https://localhost:8080/"
        },
        "id": "1UM0PrwPbZzm",
        "outputId": "0ce46930-859e-422b-e60a-4953c9b1eee6"
      },
      "execution_count": null,
      "outputs": [
        {
          "output_type": "stream",
          "name": "stdout",
          "text": [
            "                                   path              referrer  \\\n",
            "0                                     /                     -   \n",
            "1                          /favicon.ico  http://192.168.1.21/   \n",
            "3                                     /                     -   \n",
            "4                                     /                     -   \n",
            "6                                     /                     -   \n",
            "...                                 ...                   ...   \n",
            "1224646   /xmlrpcs.php?daksldlkdsadas=1          www.bing.com   \n",
            "1224647  /wp-admin.php?daksldlkdsadas=1          www.bing.com   \n",
            "1224648    /qindex.php?daksldlkdsadas=1          www.bing.com   \n",
            "1224662                        /css.php          www.bing.com   \n",
            "1224676                     /xindex.php          www.bing.com   \n",
            "\n",
            "                                                 useragent  predict  \n",
            "0        Mozilla/5.0 (Windows NT 10.0; Win64; x64) Appl...        1  \n",
            "1        Mozilla/5.0 (Windows NT 10.0; Win64; x64) Appl...        1  \n",
            "3                                    Mozilla/5.0 zgrab/0.x        1  \n",
            "4                                                        -        1  \n",
            "6                                           cman-tag-check        1  \n",
            "...                                                    ...      ...  \n",
            "1224646                                       wp_is_mobile        1  \n",
            "1224647                                       wp_is_mobile        1  \n",
            "1224648                                       wp_is_mobile        1  \n",
            "1224662                                       wp_is_mobile        1  \n",
            "1224676                                       wp_is_mobile        1  \n",
            "\n",
            "[672749 rows x 4 columns]\n"
          ]
        }
      ]
    }
  ]
}